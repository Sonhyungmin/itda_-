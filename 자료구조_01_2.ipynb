{
  "nbformat": 4,
  "nbformat_minor": 0,
  "metadata": {
    "colab": {
      "name": "자료구조 01-2",
      "provenance": [],
      "authorship_tag": "ABX9TyPwzJCl+f/jcWJw4cW4b8HI",
      "include_colab_link": true
    },
    "kernelspec": {
      "name": "python3",
      "display_name": "Python 3"
    },
    "language_info": {
      "name": "python"
    }
  },
  "cells": [
    {
      "cell_type": "markdown",
      "metadata": {
        "id": "view-in-github",
        "colab_type": "text"
      },
      "source": [
        "<a href=\"https://colab.research.google.com/github/Sonhyungmin/itda_-/blob/main/%EC%9E%90%EB%A3%8C%EA%B5%AC%EC%A1%B0_01_2.ipynb\" target=\"_parent\"><img src=\"https://colab.research.google.com/assets/colab-badge.svg\" alt=\"Open In Colab\"/></a>"
      ]
    },
    {
      "cell_type": "markdown",
      "metadata": {
        "id": "PlachVBfNVm9"
      },
      "source": [
        "# 반복하는 알고리즘\n"
      ]
    },
    {
      "cell_type": "code",
      "metadata": {
        "colab": {
          "base_uri": "https://localhost:8080/"
        },
        "id": "cD792cIwNPFG",
        "outputId": "63277e0a-7ae4-4993-abdb-94cfbfb612d6"
      },
      "source": [
        "# 실습 1-7\n",
        "# 1부터 n까지 정수의 합 구하기 1(while문)\n",
        "\n",
        "n = int(input())\n",
        "\n",
        "sum = 0\n",
        "i = 1\n",
        "\n",
        "while i <= n: # i가 n보다 작거나 같은 동안 반복\n",
        "  sum += i # sum에 i 를 더함\n",
        "  i += 1 # i에 1를 더함\n",
        "\n",
        "\n",
        "print(f'1부터 {n}까지 정수의 합: {sum}')"
      ],
      "execution_count": null,
      "outputs": [
        {
          "output_type": "stream",
          "name": "stdout",
          "text": [
            "5\n",
            "1부터 5까지 정수의 합: 15\n"
          ]
        }
      ]
    },
    {
      "cell_type": "markdown",
      "metadata": {
        "id": "3orlJHAuQeRS"
      },
      "source": [
        "## f-string 이란?\n",
        "f'문자열 {변수} 문자열'의 형식으로 문자열 출력하는 것\n",
        "\n",
        "중괄호 {}안에 있는 변수 뒤에 콜론(:)을 붙인 후 왼쪽 정렬 (<), 오른쪽 정렬(>), 가운데 정렬(^)의 옵션을 넣어줍니다. 그 후에 자릿수를 알려주는 숫자 를 넣어주면 정렬 옵션을 사용할 수 있습니다.\n",
        "\n",
        "예문)\n",
        "```python\n",
        "# f-string 왼쪽 정렬\n",
        "s1 = 'left'\n",
        "result1 = f'|{s1:<10}|'\n",
        "print(result1)\n",
        " \n",
        "# f-string 가운데 정렬\n",
        "s2 = 'mid'\n",
        "result2 = f'|{s2:^10}|'\n",
        "print(result2)\n",
        " \n",
        "# f-string 오른쪽 정렬\n",
        "s3 = 'right'\n",
        "result3 = f'|{s3:>10}|'\n",
        "print(result3)\n",
        "```"
      ]
    },
    {
      "cell_type": "markdown",
      "metadata": {
        "id": "mFFNDpyfROp4"
      },
      "source": [
        "## 반복구조 \n",
        "  어떤 조건이 성립하는 동안 반복해서 처리(프로그램 명령문 또는 명령어의 집합)하는 것, 일반적으로 **루프**라고 함\n",
        "## 사전 판단 구조\n",
        "  while문을 실행하기 전 반복을 계속할 것인지를 판단하는 구조\n",
        "  ```python\n",
        "  while 조건식: 명령문\n",
        "  ```\n",
        "  이 구문에서 반복 대상이 되는 **명령문**을 **루프 본문**이라 함"
      ]
    },
    {
      "cell_type": "code",
      "metadata": {
        "colab": {
          "base_uri": "https://localhost:8080/"
        },
        "id": "RSCEp7ZbR9Mr",
        "outputId": "a61a93df-d966-4b2e-aeff-96ca1ff24a87"
      },
      "source": [
        "# 실습 1 - 8\n",
        "# 1부터 n까지 정수의 합 구하기2(for문)\n",
        "\n",
        "n = int(input()) #n값 입력받기\n",
        "\n",
        "sum = 0 # 최초의 합은 0으로 정의\n",
        "\n",
        "for i in range(1, n + 1): # 1부터 n+1까지 i 반복하기\n",
        "   sum += i #i값을 1부터 시작하여 n이 될 때까지 1씩 증가시키며 반복\n",
        "\n",
        "print(f'1부터 정수 {n}까지 의 합은 {sum}')"
      ],
      "execution_count": null,
      "outputs": [
        {
          "output_type": "stream",
          "name": "stdout",
          "text": [
            "5\n",
            "1부터 정수 5까지 의 합은 15\n"
          ]
        }
      ]
    },
    {
      "cell_type": "markdown",
      "metadata": {
        "id": "fzMRRll6R82b"
      },
      "source": [
        "## 가우스의 덧셈으로 정수 합 구하기\n",
        "1부터 n까지 정수의 합은 수학식 n * (n + 1) // 2로도 구할 수 있다. \n",
        "```python\n",
        "sum = n * (n + 1) // 2\n",
        "```\n"
      ]
    },
    {
      "cell_type": "markdown",
      "metadata": {
        "id": "k6ltpAjrTr0j"
      },
      "source": [
        "## range() 함수로 이터러블 객체 생성하기\n",
        "\n",
        "```python\n",
        "range(n) # 0이상 n미만인 수를 차례로 나열하는 수열\n",
        "range(a, b) # a이상 b 미만인 수를 차례로 나열하는 수열\n",
        "range(a, b, step) # a이상 b미만인 수를 step 간격으로 나열하는 수열\n",
        "```\n",
        "이터러블 객체는  **반복할 수 있는 객체**를 말하며 for~in 문에 사용할 수 있고 파이썬에서 사용하는 대표적인 이터러블 자료형으로 list, str, tuple이 있다."
      ]
    },
    {
      "cell_type": "markdown",
      "metadata": {
        "id": "IrUsrVp9U3Tx"
      },
      "source": [
        "## 연속하는 정수의 합을 구하기 위해 값 정렬하기\n",
        "연속하는 정수의 합을 구할 때 시작하는 값이 1이 아닌 정수를 입력받았다면 range()함수에 전달할 시작값과 끝값을 오름차순으로 정렬해야 함"
      ]
    },
    {
      "cell_type": "code",
      "metadata": {
        "colab": {
          "base_uri": "https://localhost:8080/"
        },
        "id": "-0xhDthVVE93",
        "outputId": "985c5a35-a525-43d2-8c89-080367317232"
      },
      "source": [
        "# 실습 1-9\n",
        "# a부터 b까지 정수의 합 구하기 (for문)\n",
        "\n",
        "a = int(input())\n",
        "b = int(input())\n",
        "\n",
        "if a > b:\n",
        "  a, b = b, a  #a와 b의 값을 교환(단일 대입문 사용), a와 b를 오름차순으로 정렬\n",
        "\n",
        "sum = 0\n",
        "for i in range(a, b + 1):\n",
        "  sum += i\n",
        "\n",
        "print(f'{a}부터 {b}까지 정수의 합은 {sum}.')"
      ],
      "execution_count": null,
      "outputs": [
        {
          "output_type": "stream",
          "name": "stdout",
          "text": [
            "8\n",
            "3\n",
            "3부터 8까지 정수의 합은 33.\n"
          ]
        }
      ]
    },
    {
      "cell_type": "markdown",
      "metadata": {
        "id": "L7dQW8erWI6W"
      },
      "source": [
        "## 두 값 교환하기 1\n",
        "a와 b를 교환할 떄 단일 대입문 a, b = b, a \n",
        "\n",
        "1. 우변의 b, a에 의해 두 값울 압축한 튜플(b, a)생성\n",
        "2. 대입할 때 튜플(b, a)를 다시 풀어 b, a로 만든 다음 각각 a와 b에 대입"
      ]
    },
    {
      "cell_type": "code",
      "metadata": {
        "colab": {
          "base_uri": "https://localhost:8080/"
        },
        "id": "liO7HNyYW9rm",
        "outputId": "dce035bd-20c2-422d-cf3b-bcc03d5f1dd3"
      },
      "source": [
        "# 실습 1-10\n",
        "\n",
        "a = int(input('a:'))\n",
        "b = int(input('b:'))\n",
        "\n",
        "if a > b:\n",
        "  a, b = b, a # a와 b를 오름차순으로 정렬, a와 b의 값을 교환(단일 대입문 사용)\n",
        "\n",
        "sum = 0\n",
        "for i in range(a, b + 1):\n",
        "  if i < b: # i가 b보다 작으면 합을 구하는 과정 출력\n",
        "    print(f'{i} + ', end='') # 진행중인값: 수 뒤에 +를 출력 ex) '3+ ', '4 + ', '5 + ', '6 + '\n",
        "  else: #i가b보다 크거나 같으면 최종값 출력을 위해 i=를 출력\n",
        "    print(f'{i} = ', end='') # 최종값: 수 뒤에 =를 출력 ex) '7 = '\n",
        "  sum += i\n",
        "\n",
        "print(sum)"
      ],
      "execution_count": null,
      "outputs": [
        {
          "output_type": "stream",
          "name": "stdout",
          "text": [
            "a:5\n",
            "b:55\n",
            "5 + 6 + 7 + 8 + 9 + 10 + 11 + 12 + 13 + 14 + 15 + 16 + 17 + 18 + 19 + 20 + 21 + 22 + 23 + 24 + 25 + 26 + 27 + 28 + 29 + 30 + 31 + 32 + 33 + 34 + 35 + 36 + 37 + 38 + 39 + 40 + 41 + 42 + 43 + 44 + 45 + 46 + 47 + 48 + 49 + 50 + 51 + 52 + 53 + 54 + 55 = 1530\n"
          ]
        }
      ]
    },
    {
      "cell_type": "code",
      "metadata": {
        "colab": {
          "base_uri": "https://localhost:8080/"
        },
        "id": "pm08TazodA60",
        "outputId": "7174e0d0-8478-418c-e27c-5ae49a5774ab"
      },
      "source": [
        "# 실습 1-11\n",
        "a = int(input('a:'))\n",
        "b = int(input('b:'))\n",
        "\n",
        "if a > b:\n",
        "  a, b = b, a # a와 b를 오름차순으로 정렬, a와 b의 값을 교환(단일 대입문 사용)\n",
        "\n",
        "sum = 0\n",
        "for i in range(a, b):\n",
        "  print(f'{i} + ', end='')\n",
        "  sum += i\n",
        "# 진행중인 값 : for문에서 a부터 b-1까지 값 뒤에 +를 붙여 출력합니다.\n",
        "\n",
        "print(f'{b} = ', end='')\n",
        "sum+=b \n",
        "# 최종값 : b의 값 뒤에 =를 붙여 출력합니다. \n",
        "\n",
        "print(sum)"
      ],
      "execution_count": null,
      "outputs": [
        {
          "output_type": "stream",
          "name": "stdout",
          "text": [
            "a:5\n",
            "b:55\n",
            "5 + 6 + 7 + 8 + 9 + 10 + 11 + 12 + 13 + 14 + 15 + 16 + 17 + 18 + 19 + 20 + 21 + 22 + 23 + 24 + 25 + 26 + 27 + 28 + 29 + 30 + 31 + 32 + 33 + 34 + 35 + 36 + 37 + 38 + 39 + 40 + 41 + 42 + 43 + 44 + 45 + 46 + 47 + 48 + 49 + 50 + 51 + 52 + 53 + 54 + 55 = 1530\n"
          ]
        }
      ]
    },
    {
      "cell_type": "markdown",
      "metadata": {
        "id": "BT3oBNWsdoIr"
      },
      "source": [
        "## 두 값 교환하기2\n",
        "단일 대입문 외에도 임시용 변수를 이용하여 교환 가능\n",
        "\n",
        "1. a값을 t에 저장\n",
        "2. b값을 a에 대입\n",
        "3. t에 저장한 처음 a값을 b에 대입\n"
      ]
    },
    {
      "cell_type": "code",
      "metadata": {
        "colab": {
          "base_uri": "https://localhost:8080/"
        },
        "id": "E5kCYad4d3KY",
        "outputId": "5dc2a091-72eb-4598-824d-6af550e119f3"
      },
      "source": [
        "# 실습 1 -12\n",
        "# +와 -를 번갈아 출력하기1\n",
        "\n",
        "print('+와 -를 번갈아 출력합니다.')\n",
        "n = int(input('몇 개를 출력할까요?: '))\n",
        "\n",
        "for i in range(n):\n",
        "  if i % 2: #홀수인 경우 -출력\n",
        "    print('-', end='')\n",
        "  else:\n",
        "    print('+', end='') #짝수인 경우 +출력\n",
        "\n",
        "print()"
      ],
      "execution_count": null,
      "outputs": [
        {
          "output_type": "stream",
          "name": "stdout",
          "text": [
            "+와 -를 번갈아 출력합니다.\n",
            "몇 개를 출력할까요?: 12\n",
            "+-+-+-+-+-+-\n"
          ]
        }
      ]
    },
    {
      "cell_type": "code",
      "metadata": {
        "colab": {
          "base_uri": "https://localhost:8080/"
        },
        "id": "p3PfkxBReWoY",
        "outputId": "a8e425cc-0e8f-49b1-d5a9-3d17332af199"
      },
      "source": [
        "# 실습 1 -12\n",
        "# +와 -를 번갈아 출력하기(for문 수정) \n",
        "# 만약 i를 1부터 n까지 1씩 증가시키고 싶다면 아래와 같이 range() 함수로 전달하는 값과 for 문의 print() 함수 호출 순서를 바꿔야 함\n",
        "print('+와 -를 번갈아 출력합니다.')\n",
        "n = int(input('몇 개를 출력할까요?: '))\n",
        "\n",
        "for i in range(1, n + 1):\n",
        "  if i % 2: #홀수인 경우 -출력\n",
        "    print('+', end='')\n",
        "  else:\n",
        "    print('-', end='') #짝수인 경우 +출력\n",
        "\n",
        "print()"
      ],
      "execution_count": null,
      "outputs": [
        {
          "output_type": "stream",
          "name": "stdout",
          "text": [
            "+와 -를 번갈아 출력합니다.\n",
            "몇 개를 출력할까요?: 12\n",
            "+-+-+-+-+-+-\n"
          ]
        }
      ]
    },
    {
      "cell_type": "code",
      "metadata": {
        "colab": {
          "base_uri": "https://localhost:8080/"
        },
        "id": "VFFMmbSVe17Q",
        "outputId": "e45dfbc2-0142-4ab4-edab-9c99381b20de"
      },
      "source": [
        "#실습 1 -13\n",
        "# +와 -를 번갈아 출력하기2\n",
        "\n",
        "print('+와 -를 번갈아 출력합니다.')\n",
        "n = int(input('몇 개를 출력할까요?: '))\n",
        "\n",
        "for _ in range(n//2):\n",
        "  print('+-', end='') # +-를 n//2개의 출력\n",
        "if n % 2:\n",
        "  print('+', end='') #n인 홀수인 경우만 +출력\n",
        "\n",
        "print()"
      ],
      "execution_count": null,
      "outputs": [
        {
          "output_type": "stream",
          "name": "stdout",
          "text": [
            "+와 -를 번갈아 출력합니다.\n",
            "몇 개를 출력할까요?: 12\n",
            "+-+-+-+-+-+-\n"
          ]
        }
      ]
    },
    {
      "cell_type": "code",
      "metadata": {
        "colab": {
          "base_uri": "https://localhost:8080/"
        },
        "id": "1bO4ASHLgKmu",
        "outputId": "fde8a987-14d5-451f-b9d7-9d5816134c93"
      },
      "source": [
        "#실습 1 -14\n",
        "# *를 n개 출력하되 w개마다 줄바꿈하기1\n",
        "\n",
        "print('*를 출력')\n",
        "n = int(input('몇개 출력?'))\n",
        "w = int(input('몇개마다 줄바꿈?'))\n",
        "\n",
        "for i in range(n): #n번 반복\n",
        "  print('*', end='')\n",
        "  if i % w == w - 1: #n번 판단\n",
        "    print() #줄바꿈\n",
        "\n",
        "if n % w: #1번 판단\n",
        "  print()#줄바꿈"
      ],
      "execution_count": null,
      "outputs": [
        {
          "output_type": "stream",
          "name": "stdout",
          "text": [
            "*를 출력\n",
            "몇개 출력?14\n",
            "몇개마다 줄바꿈?5\n",
            "*****\n",
            "*****\n",
            "****\n"
          ]
        }
      ]
    },
    {
      "cell_type": "code",
      "metadata": {
        "colab": {
          "base_uri": "https://localhost:8080/"
        },
        "id": "t8goDoOHhTMk",
        "outputId": "bcee42d4-65d9-41e9-bd5f-30a87777ae6b"
      },
      "source": [
        "#실습 1 -15\n",
        "# *를 n개 출력하되 w개마다 줄바꿈하기2\n",
        "\n",
        "print('*를 출력')\n",
        "n = int(input('몇개 출력?'))\n",
        "w = int(input('몇개마다 줄바꿈?'))\n",
        "\n",
        "for _ in range(n // w): # n // w번 반복\n",
        "  print('*' * w)\n",
        "\n",
        "rest = n % w\n",
        "if rest: #if문 판단 1번\n",
        "  print('*'*rest)"
      ],
      "execution_count": null,
      "outputs": [
        {
          "output_type": "stream",
          "name": "stdout",
          "text": [
            "*를 출력\n",
            "몇개 출력?14\n",
            "몇개마다 줄바꿈?5\n",
            "*****\n",
            "*****\n",
            "****\n"
          ]
        }
      ]
    },
    {
      "cell_type": "code",
      "metadata": {
        "colab": {
          "base_uri": "https://localhost:8080/"
        },
        "id": "7jTAAl5Nhcb3",
        "outputId": "c6da7bcd-7205-4287-af49-7dc1543f1fdb"
      },
      "source": [
        "#실습 1-16\n",
        "# 1부터 n까지 정수의 합 구하기(n값은 양수만 입력받음)\n",
        "\n",
        "print('1부터 n까지 정수의 합 구하기')\n",
        "\n",
        "while True:\n",
        "  n = int(input('n?'))\n",
        "  if n > 0:\n",
        "    break #n이 0보다 커질 때까지 반복\n",
        "\n",
        "sum = 0\n",
        "i = 1\n",
        "\n",
        "for i in range(1, n+1):\n",
        "  sum += i\n",
        "  i +=1\n",
        "\n",
        "print(sum)"
      ],
      "execution_count": null,
      "outputs": [
        {
          "output_type": "stream",
          "name": "stdout",
          "text": [
            "1부터 n까지 정수의 합 구하기\n",
            "n?-6\n",
            "n?10\n",
            "55\n"
          ]
        }
      ]
    },
    {
      "cell_type": "markdown",
      "metadata": {
        "id": "Mtocy5LNhswQ"
      },
      "source": [
        "## 무한루프와 break 문 알아보기\n",
        "  프로그래머가 의도적으로 while문이 무한 반복되도록 만든 것이 무한루프\n",
        "```python\n",
        "while True:\n",
        "  n = int(input('n?'))\n",
        "  if n > 0:\n",
        "    break\n",
        "```\n",
        "이 코드에서는 반복문 안에서 break 문을 실행하면 반복문을 종료, 양수를 입력해야만 종료"
      ]
    },
    {
      "cell_type": "code",
      "metadata": {
        "colab": {
          "base_uri": "https://localhost:8080/"
        },
        "id": "akNX6ftfhtyM",
        "outputId": "ea225af9-fc95-4d1d-f4b7-af146c6dfd61"
      },
      "source": [
        "# 실습 1 - 17\n",
        "# 가로, 세로 길이가 정수이고 넓이가 area인 직사각형에서 변의 길이 나열하기\n",
        "\n",
        "area = int(input('직사각형의 넓이: '))\n",
        "\n",
        "for i in range(1, area + 1): # 1부터 사각형의 넓이 계산\n",
        "  if i * i > area: break\n",
        "  if area % i: continue\n",
        "  print(f'{i} x {area // i}')"
      ],
      "execution_count": null,
      "outputs": [
        {
          "output_type": "stream",
          "name": "stdout",
          "text": [
            "직사각형의 넓이: 32\n",
            "1 x 32\n",
            "2 x 16\n",
            "4 x 8\n"
          ]
        }
      ]
    },
    {
      "cell_type": "code",
      "metadata": {
        "colab": {
          "base_uri": "https://localhost:8080/"
        },
        "id": "nSXDWJbliJaI",
        "outputId": "4ab8b7df-3a54-4b1a-a7f8-5bd0c794c016"
      },
      "source": [
        "#실습 1-18\n",
        "# 10~99 사이의 난수 n개 생성하기(13이 나오면 중다)\n",
        "\n",
        "import random\n",
        "\n",
        "n = int(input('난수 개수: '))\n",
        "\n",
        "for _ in range(n):\n",
        "  r = random.randint(10, 99)\n",
        "  print(r, end=' ')\n",
        "  if r == 13:\n",
        "    print('\\n프로그램을 중단')\n",
        "    break\n",
        "\n",
        "else:\n",
        "  print('\\n 난수 생성 종료')"
      ],
      "execution_count": null,
      "outputs": [
        {
          "output_type": "stream",
          "name": "stdout",
          "text": [
            "난수 개수: 5\n",
            "64 29 10 78 63 \n",
            " 난수 생성 종료\n"
          ]
        }
      ]
    },
    {
      "cell_type": "code",
      "metadata": {
        "colab": {
          "base_uri": "https://localhost:8080/"
        },
        "id": "kqX_CbViiOQl",
        "outputId": "4ff4367f-1079-4127-b558-f0f139a54e1f"
      },
      "source": [
        "# 실습 1-19\n",
        "# 1~12까지 8을 건너뛰고 출력1\n",
        "\n",
        "for i in range(1, 13):\n",
        "  if i ==8:\n",
        "    continue\n",
        "  print(i, end=' ')\n",
        "\n",
        "print()"
      ],
      "execution_count": null,
      "outputs": [
        {
          "output_type": "stream",
          "name": "stdout",
          "text": [
            "1 2 3 4 5 6 7 9 10 11 12 \n"
          ]
        }
      ]
    },
    {
      "cell_type": "code",
      "metadata": {
        "colab": {
          "base_uri": "https://localhost:8080/"
        },
        "id": "4-oUpi2ViVKo",
        "outputId": "a4bcf794-bf6d-4df3-f72f-fe8132bd3518"
      },
      "source": [
        "# 실습 1-20\n",
        "# 1~12까지 8을 건너뛰고 출력2\n",
        "\n",
        "for i in list(range(1, 8)) + list(range(9, 13)):\n",
        "  print(i, end=' ')\n",
        "print()"
      ],
      "execution_count": null,
      "outputs": [
        {
          "output_type": "stream",
          "name": "stdout",
          "text": [
            "1 2 3 4 5 6 7 9 10 11 12 \n"
          ]
        }
      ]
    },
    {
      "cell_type": "markdown",
      "metadata": {
        "id": "ruJY5OaAin-_"
      },
      "source": [
        "## 비교 연사자를 연속으로 사용하는 방법과 드모르간의 법칙\n"
      ]
    },
    {
      "cell_type": "markdown",
      "metadata": {
        "id": "-D7MErBXitC9"
      },
      "source": [
        "# 2자리 양수(10~99) 입력받기\n",
        "\n"
      ]
    },
    {
      "cell_type": "code",
      "metadata": {
        "colab": {
          "base_uri": "https://localhost:8080/"
        },
        "id": "iz25fHFAi5dI",
        "outputId": "e29eeac9-3c81-4e52-ab04-6670774b2a40"
      },
      "source": [
        "print('2자리 양수를 입력하세요.')\n",
        "\n",
        "while True:\n",
        "  no = int(input('값:'))\n",
        "  if no >= 10 and no <= 99: # no >= 10 and no < =99 와 같음\n",
        "    break\n",
        "# 드모르간의 법칙을 사용하면\n",
        "# if not(no<10 or no>99):\n",
        "\n",
        "print(f'입력받은 양수는 {no}입니다.')"
      ],
      "execution_count": 23,
      "outputs": [
        {
          "output_type": "stream",
          "name": "stdout",
          "text": [
            "2자리 양수를 입력하세요.\n",
            "값:1\n",
            "값:100\n",
            "값:54\n",
            "입력받은 양수는 54입니다.\n"
          ]
        }
      ]
    },
    {
      "cell_type": "markdown",
      "metadata": {
        "id": "E2FoKbA_sZoI"
      },
      "source": [
        "## 구조적 프로그래밍이란?\n",
        "입력과 출력으로 이루어지 ㄴ구성 요소를 계층으로 배치하여 프로그램을 구성하는 방법을 구조적 프로그래밍이라고 한다. 구조적 프로그래밍은 **순차, 선택, 반복**이라는 세 종류의 제어 흐름을 사용한다."
      ]
    },
    {
      "cell_type": "code",
      "metadata": {
        "colab": {
          "base_uri": "https://localhost:8080/"
        },
        "id": "KBp9jjhAssrW",
        "outputId": "c9dd0ecb-8374-4f4e-f065-4ed1a3b8333f"
      },
      "source": [
        "# 구구단 곱셈표 출력하기\n",
        "\n",
        "print('-' * 27)\n",
        "for i in range(1, 10):\n",
        "  for j in range(1, 10):\n",
        "    print(f'{i * j:3}', end='')\n",
        "  print()\n",
        "\n",
        "print('-'*27)"
      ],
      "execution_count": 25,
      "outputs": [
        {
          "output_type": "stream",
          "name": "stdout",
          "text": [
            "---------------------------\n",
            "  1  2  3  4  5  6  7  8  9\n",
            "  2  4  6  8 10 12 14 16 18\n",
            "  3  6  9 12 15 18 21 24 27\n",
            "  4  8 12 16 20 24 28 32 36\n",
            "  5 10 15 20 25 30 35 40 45\n",
            "  6 12 18 24 30 36 42 48 54\n",
            "  7 14 21 28 35 42 49 56 63\n",
            "  8 16 24 32 40 48 56 64 72\n",
            "  9 18 27 36 45 54 63 72 81\n",
            "---------------------------\n"
          ]
        }
      ]
    },
    {
      "cell_type": "markdown",
      "metadata": {
        "id": "EfDNU4V8tMWS"
      },
      "source": [
        "## 난수를 생성하는 random.randint() 함수 알아보기\n",
        "random.randint(a, b)는 a이상 b이하인 난수를 생성하여(a이상 b이하인 정수 가운데 무작위로 1개를 뽑아)반환\n",
        "```python\n",
        "random.randint(a, b)\n",
        "```"
      ]
    },
    {
      "cell_type": "code",
      "metadata": {
        "colab": {
          "base_uri": "https://localhost:8080/"
        },
        "id": "uIh8avw6thuP",
        "outputId": "1429c567-4690-4cc3-db3e-0ab933eb5d4e"
      },
      "source": [
        "# 실습 1-22\n",
        "# 왼쪽 아래가 직각인 이등변 삼각형으로 * 출력하기\n",
        "\n",
        "print('왼쪽 아래가 직각인 이등변 삼각형을 출력합니다.')\n",
        "n = int(input('짧은 변의 길이를 입력하세요.: '))\n",
        "\n",
        "for i in range(n): # 행 루프\n",
        "  for j in range(i+ 1): # 열 루프\n",
        "    print('*', end='')\n",
        "  print() # 행 변경"
      ],
      "execution_count": 26,
      "outputs": [
        {
          "output_type": "stream",
          "name": "stdout",
          "text": [
            "왼쪽 아래가 직각인 이등변 삼각형을 출력합니다.\n",
            "짧은 변의 길이를 입력하세요.: 5\n",
            "*\n",
            "**\n",
            "***\n",
            "****\n",
            "*****\n"
          ]
        }
      ]
    },
    {
      "cell_type": "markdown",
      "metadata": {
        "id": "t0dIusQGuAfQ"
      },
      "source": [
        "n값이 5인 경우 바깥쪽 for문(행 루프)은 i값을 0~4까지 1씩 증가시킴. 이는 삼각형의 각 향에 대응하는 세로 방향의 반복문이다. 안쪽 for문(열 루프)은 i값을 0부터 i까지 1씩 증가시키면서 출력. 이는 삼각형의 각 열에 대응하는 가로 방향의 반복문"
      ]
    },
    {
      "cell_type": "code",
      "metadata": {
        "id": "gxyJNTrmulXo"
      },
      "source": [
        "#오른쪽 아래가 직각인 이등변 삼각형으로 * 출력하기\n",
        "\n",
        "print('오른쪽 아래가 직각인 이등변 삼각형을 출력')\n",
        "n = int(input('짧은 변의 길이 입력.: '))\n",
        "\n",
        "for i in range(n):\n",
        "  for _ in range(n-i-1): # 공백을 출력, 카운터용 변수로 언더스코오(_) 사용\n",
        "    print(' ', end='')\n",
        "  for _ in range(i+1): # * 출력\n",
        "    print('*', end='')\n",
        "  print()"
      ],
      "execution_count": null,
      "outputs": []
    },
    {
      "cell_type": "markdown",
      "metadata": {
        "id": "750TdOzYvX90"
      },
      "source": [
        "## 파이썬의 변수 알아보기\n",
        "파이썬에서는 데이터, 함수, 클래스, 모듈, 패키지 등을 모두 객체로 취급. 객체는 자료형을 가지며 메모리 공간을 차지한다. 이런 특징 떄문에 **파이썬의 변수는 값을 갖지 않는다**는 특징이 있다. \n",
        "  * 변수는 객체를 참조하는 객체에 연결된 이름에 불관\n",
        "  * 모든 객체는 메모리를 차지하고, 자료형뿐만 아니라 식별 번호 가짐\n",
        "\n",
        "```python\n",
        "n = 17\n",
        "id(17)\n",
        "140710805205776 # 17의 식별 번호\n",
        "\n",
        "id(n)\n",
        "140710805205776 #n의 식별번호(17의 식별번호랑 같음)\n",
        "```\n",
        "id()함수는 객체의 식별 번호를 반환헤준다. 주목할 점은 n = 17이 값을 복사하여 대입하지 않는다는 점이다. **정수 리터럴 17의 식별 번호와 n의 식별 번호가 같다**\n",
        "\n",
        "-리터럴이란 값 자체를 의미, 문자 자체에 의해 값이 주어지는 문자열"
      ]
    },
    {
      "cell_type": "code",
      "metadata": {
        "colab": {
          "base_uri": "https://localhost:8080/"
        },
        "id": "6zcsBRXbwjn1",
        "outputId": "4ad5cad3-1e78-4d98-bf32-abd1c61ce559"
      },
      "source": [
        "# 실습 1C-4\n",
        "# 함수 내부/외부에서 정의한 변수와 객체의 식별 번호를 출력하기\n",
        "\n",
        "n = 1\n",
        "def put_id():\n",
        "  x = 1\n",
        "  print(f'id(x) = {id(x)}')\n",
        "\n",
        "print(f'id(1) = {id(1)}')\n",
        "print(f'id(n) = {id(n)}')\n",
        "put_id()"
      ],
      "execution_count": 28,
      "outputs": [
        {
          "output_type": "stream",
          "name": "stdout",
          "text": [
            "id(1) = 94005616744960\n",
            "id(n) = 94005616744960\n",
            "id(x) = 94005616744960\n"
          ]
        }
      ]
    },
    {
      "cell_type": "code",
      "metadata": {
        "colab": {
          "base_uri": "https://localhost:8080/"
        },
        "id": "tErnX2CMxRoY",
        "outputId": "287f9680-e894-40cf-a8ae-ea8c3555efc6"
      },
      "source": [
        "# 실습 1C - 5\n",
        "# 1부터 100까지 반복하여 출력\n",
        "for i in range(1, 101):\n",
        "  print(f'i = {i:3} id(i) = {id(i)}')"
      ],
      "execution_count": 29,
      "outputs": [
        {
          "output_type": "stream",
          "name": "stdout",
          "text": [
            "i =   1 id(i) = 94005616744960\n",
            "i =   2 id(i) = 94005616744992\n",
            "i =   3 id(i) = 94005616745024\n",
            "i =   4 id(i) = 94005616745056\n",
            "i =   5 id(i) = 94005616745088\n",
            "i =   6 id(i) = 94005616745120\n",
            "i =   7 id(i) = 94005616745152\n",
            "i =   8 id(i) = 94005616745184\n",
            "i =   9 id(i) = 94005616745216\n",
            "i =  10 id(i) = 94005616745248\n",
            "i =  11 id(i) = 94005616745280\n",
            "i =  12 id(i) = 94005616745312\n",
            "i =  13 id(i) = 94005616745344\n",
            "i =  14 id(i) = 94005616745376\n",
            "i =  15 id(i) = 94005616745408\n",
            "i =  16 id(i) = 94005616745440\n",
            "i =  17 id(i) = 94005616745472\n",
            "i =  18 id(i) = 94005616745504\n",
            "i =  19 id(i) = 94005616745536\n",
            "i =  20 id(i) = 94005616745568\n",
            "i =  21 id(i) = 94005616745600\n",
            "i =  22 id(i) = 94005616745632\n",
            "i =  23 id(i) = 94005616745664\n",
            "i =  24 id(i) = 94005616745696\n",
            "i =  25 id(i) = 94005616745728\n",
            "i =  26 id(i) = 94005616745760\n",
            "i =  27 id(i) = 94005616745792\n",
            "i =  28 id(i) = 94005616745824\n",
            "i =  29 id(i) = 94005616745856\n",
            "i =  30 id(i) = 94005616745888\n",
            "i =  31 id(i) = 94005616745920\n",
            "i =  32 id(i) = 94005616745952\n",
            "i =  33 id(i) = 94005616745984\n",
            "i =  34 id(i) = 94005616746016\n",
            "i =  35 id(i) = 94005616746048\n",
            "i =  36 id(i) = 94005616746080\n",
            "i =  37 id(i) = 94005616746112\n",
            "i =  38 id(i) = 94005616746144\n",
            "i =  39 id(i) = 94005616746176\n",
            "i =  40 id(i) = 94005616746208\n",
            "i =  41 id(i) = 94005616746240\n",
            "i =  42 id(i) = 94005616746272\n",
            "i =  43 id(i) = 94005616746304\n",
            "i =  44 id(i) = 94005616746336\n",
            "i =  45 id(i) = 94005616746368\n",
            "i =  46 id(i) = 94005616746400\n",
            "i =  47 id(i) = 94005616746432\n",
            "i =  48 id(i) = 94005616746464\n",
            "i =  49 id(i) = 94005616746496\n",
            "i =  50 id(i) = 94005616746528\n",
            "i =  51 id(i) = 94005616746560\n",
            "i =  52 id(i) = 94005616746592\n",
            "i =  53 id(i) = 94005616746624\n",
            "i =  54 id(i) = 94005616746656\n",
            "i =  55 id(i) = 94005616746688\n",
            "i =  56 id(i) = 94005616746720\n",
            "i =  57 id(i) = 94005616746752\n",
            "i =  58 id(i) = 94005616746784\n",
            "i =  59 id(i) = 94005616746816\n",
            "i =  60 id(i) = 94005616746848\n",
            "i =  61 id(i) = 94005616746880\n",
            "i =  62 id(i) = 94005616746912\n",
            "i =  63 id(i) = 94005616746944\n",
            "i =  64 id(i) = 94005616746976\n",
            "i =  65 id(i) = 94005616747008\n",
            "i =  66 id(i) = 94005616747040\n",
            "i =  67 id(i) = 94005616747072\n",
            "i =  68 id(i) = 94005616747104\n",
            "i =  69 id(i) = 94005616747136\n",
            "i =  70 id(i) = 94005616747168\n",
            "i =  71 id(i) = 94005616747200\n",
            "i =  72 id(i) = 94005616747232\n",
            "i =  73 id(i) = 94005616747264\n",
            "i =  74 id(i) = 94005616747296\n",
            "i =  75 id(i) = 94005616747328\n",
            "i =  76 id(i) = 94005616747360\n",
            "i =  77 id(i) = 94005616747392\n",
            "i =  78 id(i) = 94005616747424\n",
            "i =  79 id(i) = 94005616747456\n",
            "i =  80 id(i) = 94005616747488\n",
            "i =  81 id(i) = 94005616747520\n",
            "i =  82 id(i) = 94005616747552\n",
            "i =  83 id(i) = 94005616747584\n",
            "i =  84 id(i) = 94005616747616\n",
            "i =  85 id(i) = 94005616747648\n",
            "i =  86 id(i) = 94005616747680\n",
            "i =  87 id(i) = 94005616747712\n",
            "i =  88 id(i) = 94005616747744\n",
            "i =  89 id(i) = 94005616747776\n",
            "i =  90 id(i) = 94005616747808\n",
            "i =  91 id(i) = 94005616747840\n",
            "i =  92 id(i) = 94005616747872\n",
            "i =  93 id(i) = 94005616747904\n",
            "i =  94 id(i) = 94005616747936\n",
            "i =  95 id(i) = 94005616747968\n",
            "i =  96 id(i) = 94005616748000\n",
            "i =  97 id(i) = 94005616748032\n",
            "i =  98 id(i) = 94005616748064\n",
            "i =  99 id(i) = 94005616748096\n",
            "i = 100 id(i) = 94005616748128\n"
          ]
        }
      ]
    }
  ]
}