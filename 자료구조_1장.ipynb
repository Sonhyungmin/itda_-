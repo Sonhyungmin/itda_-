{
  "nbformat": 4,
  "nbformat_minor": 0,
  "metadata": {
    "colab": {
      "name": "자료구조 1장",
      "provenance": [],
      "authorship_tag": "ABX9TyNzib5RxQR3u+T25dXa6F9J",
      "include_colab_link": true
    },
    "kernelspec": {
      "name": "python3",
      "display_name": "Python 3"
    },
    "language_info": {
      "name": "python"
    }
  },
  "cells": [
    {
      "cell_type": "markdown",
      "metadata": {
        "id": "view-in-github",
        "colab_type": "text"
      },
      "source": [
        "<a href=\"https://colab.research.google.com/github/Sonhyungmin/itda_-/blob/main/%EC%9E%90%EB%A3%8C%EA%B5%AC%EC%A1%B0_1%EC%9E%A5.ipynb\" target=\"_parent\"><img src=\"https://colab.research.google.com/assets/colab-badge.svg\" alt=\"Open In Colab\"/></a>"
      ]
    },
    {
      "cell_type": "markdown",
      "metadata": {
        "id": "uWts1D6Nrh6M"
      },
      "source": [
        "# 01 - 1 알고리즘이란?"
      ]
    },
    {
      "cell_type": "code",
      "metadata": {
        "colab": {
          "base_uri": "https://localhost:8080/"
        },
        "id": "xxQv4Nmtrcf7",
        "outputId": "1d52c00c-18c9-44c3-d101-0680e3f6d162"
      },
      "source": [
        "# 실습 1-1\n",
        "# 세 정수를 입력받아 최댓값 구하기 - '#' 은 주석 처리할 때 사용\n",
        "\n",
        "print('세 정수의 최댓값을 구합니다.')\n",
        "a = int(input('정수 a의 값을 입력하세요.: ')) #a의 값을 입력받음\n",
        "b = int(input('정수 b의 값을 입력하세요.: '))\n",
        "c = int(input('정수 c의 값을 입력하세요.: '))\n",
        "\n",
        "maximum = a # 일단 최댓값을 a라고 정의\n",
        "if b > maximum:\n",
        "  maximum = b #만약 b의 값이 a의 값보다 크다면 maximum에 b 값 대입\n",
        "if c > maximum: \n",
        "  maximum = c #만약 c의 값이 maximum 보다 크면 c의 값을 maximum에 대입\n",
        "\n",
        "print(f'최댓값은 {maximum}입니다.')"
      ],
      "execution_count": 1,
      "outputs": [
        {
          "output_type": "stream",
          "name": "stdout",
          "text": [
            "세 정수의 최댓값을 구합니다.\n",
            "정수 a의 값을 입력하세요.: 84\n",
            "정수 b의 값을 입력하세요.: 56\n",
            "정수 c의 값을 입력하세요.: 97\n",
            "최댓값은 97입니다.\n"
          ]
        }
      ]
    },
    {
      "cell_type": "markdown",
      "metadata": {
        "id": "xNPkbxlrrhLy"
      },
      "source": [
        "# 알고리즘의 기본 지식\n",
        "\n",
        "* 알고리즘이 흐르는 방향은 조건식이 결정\n",
        "* 순차구조 \n",
        "  * 한 문장씩 순서대로 처리되는 구조\n",
        "*조건식\n",
        "  * if와 콜론(:) 사이에 있는 식\n",
        "* 선택구조\n",
        "  * 조건식으로 평가한 결과에 따라 프로그램의 실행 흐름이 변경되는 구조\n",
        "* 양 갈래 선택\n",
        "  * 조건식에 따라 알고리즘의 흐름이 두 갈래로 나뉘는 것\n",
        "* input() 함수\n",
        "  *  키보드로 문자열을 입력받아 반환\n",
        "  * 키보드로 입력후 enter키를 눌러야 입력 완료\n",
        "  * 기본 자료형은 문자열형(str)\n",
        "  * 입력받은 문자열의 자료형을 정수형 자료형으로 변환하기 위해서는 int(input()) 형식으로 사용하여 형 변환(문자열형을 자료형으로 변환하는 과정)\n",
        "* 형 변환\n",
        "  * int()함수는 int(문자열)과 같이 문자열 전달받음\n",
        "  * 함수 실행 결과로 10진수 정수형 얻음\n",
        "  * 2진수, 8진수, 16진수, 16진수의 문자열을 정수로 변환할때는\n",
        "\n",
        "  int(문자열, 진수)와 같이 2개의 인수 받음\n",
        "\n",
        "  float또한 같은 형식으로 반환\n",
        "\n",
        "  float(문자열)\n",
        "* 복합문의 구조\n",
        "  * 헤더 : if문이나 while문 등 복합문의 첫부분은 키워드로 시작하여 콜론(:)으로 끝남 \n",
        "  if식: 스위트 -> if문 반드시 1개 필요\n",
        "  elif: 스위트 -> elif문은 없거나, 있다면 여러개 사용 가능\n",
        "  else식: 스위트 -> else문은 없거나, 있다면 1개만 사용 가능\n"
      ]
    },
    {
      "cell_type": "code",
      "metadata": {
        "id": "NcTXOK33O0lG"
      },
      "source": [
        ""
      ],
      "execution_count": null,
      "outputs": []
    },
    {
      "cell_type": "code",
      "metadata": {
        "colab": {
          "base_uri": "https://localhost:8080/"
        },
        "id": "pMTbwBA1tcQV",
        "outputId": "6aad46a4-9311-46a8-b132-65dd1548fd4f"
      },
      "source": [
        "# 형 변환 예시\n",
        "print(int('17')) #10진수 문자열을 10진수 정수형을 변환(기본)\n",
        "print(int('0b110', 2)) #2진수 문자열을 10진수 정수형으로 변환\n",
        "print(int('0o75', 8)) # 8진수 문자열을 10진수 정수형으로 변환\n",
        "print(int('13', 10)) # 10진수 문자열을 10진수 정수형으로 변환\n",
        "print(int('0x3F', 16)) # 16진수 문자열을 10진수 정수형으로 변환\n",
        "print(float('3.14')) # 문자열을 실수형으로 변환"
      ],
      "execution_count": 4,
      "outputs": [
        {
          "output_type": "stream",
          "name": "stdout",
          "text": [
            "17\n",
            "6\n",
            "61\n",
            "13\n",
            "63\n",
            "3.14\n"
          ]
        }
      ]
    },
    {
      "cell_type": "code",
      "metadata": {
        "colab": {
          "base_uri": "https://localhost:8080/"
        },
        "id": "nPEVTANG2Wlw",
        "outputId": "130df21a-a723-4a8e-9d65-d992ad39d909"
      },
      "source": [
        "#실습 1-2\n",
        "# 세 정수의 최댓값 구하기\n",
        "\n",
        "def max3(a, b, c):\n",
        "  \"\"\" a, b, c의 최댓값을 구하여 반환\"\"\" #\"\"\"\"은 파이썬의 docstring으로 여러 줄의 주석을 입력할 때도 사용한다. 들여쓰기에 주의하여 입력\n",
        "  maximum = a\n",
        "  if b > maximum: maximum = b\n",
        "  if c > maximum: maximum = c\n",
        "  return maximum #최댓값 반환\n",
        "\n",
        "print(f'max3(3, 2, 1) = {max3(3, 2, 1)}') #a>b>c\n",
        "print(f'max3(3, 2, 2) = {max3(3, 2, 2)}')\n",
        "print(f'max3(3, 1, 2) = {max3(3, 1, 2)}')\n",
        "print(f'max3(2, 1, 3) = {max3(2, 1, 3)}')\n",
        "print(f'max3(3, 3, 2) = {max3(3, 3, 2)}')\n",
        "print(f'max3(3, 3, 3) = {max3(3, 3, 3)}')\n",
        "print(f'max3(2, 2, 3) = {max3(2, 2, 3)}')\n",
        "print(f'max3(2, 3, 1) = {max3(2, 3, 1)}')\n",
        "print(f'max3(2, 3, 2) = {max3(2, 3, 2)}')\n",
        "print(f'max3(1, 3, 2) = {max3(1, 3, 2)}')"
      ],
      "execution_count": 6,
      "outputs": [
        {
          "output_type": "stream",
          "name": "stdout",
          "text": [
            "max3(3, 2, 1) = 3\n",
            "max3(3, 2, 2) = 3\n",
            "max3(3, 1, 2) = 3\n",
            "max3(2, 1, 3) = 3\n",
            "max3(3, 3, 2) = 3\n",
            "max3(3, 3, 3) = 3\n",
            "max3(2, 2, 3) = 3\n",
            "max3(2, 3, 1) = 3\n",
            "max3(2, 3, 2) = 3\n",
            "max3(1, 3, 2) = 3\n"
          ]
        }
      ]
    },
    {
      "cell_type": "markdown",
      "metadata": {
        "id": "waZHMxyJrbNS"
      },
      "source": [
        "실습 1-2는 최댓값을 구하는 max3() 함수를 이용하여 작성한 코드\n",
        "\n",
        "### max3() 함수는 매개변수 a, b, c에 숫자를 입력받아 최댓값을 구하여 반환한다.\n",
        "\n",
        "함수 내부에서 처리한 값을 반환할 때는 return문 사용, 실제 반환값을 얻기 위해서는 함수를 호출해야 함"
      ]
    },
    {
      "cell_type": "markdown",
      "metadata": {
        "id": "aztwdoHrrQQt"
      },
      "source": [
        "## **알고리즘  : 어떤 문제를 해결하기 위해 정해 놓은 일련의 절차**\n",
        "  * 올바른 알고리즘 : 어떤한 경우에도 실행 결과가 똑같이 나오는 것"
      ]
    },
    {
      "cell_type": "markdown",
      "metadata": {
        "id": "I_24G2OL6Ww3"
      },
      "source": [
        "## 복합문 사용시 지켜야 할 규칙\n",
        "  * 행마다 같은 수준으로 들여쓰기\n",
        "  * 스위트가 단순문이면 헤더와 같은 행에 둘 수 있음\n",
        "  * 단순문이 2개 이상이면 각각의 단순문을 세미콜론(;)으로 구분\n",
        "  ```python\n",
        "  if a < b: min2 =a # 단순문 1개\n",
        "  if a < b: min2 = a; max2 = b # 단순문 2개\n",
        "  if a < b: min2 = a; max2 = b; # 단순문 2개(세미콜론을 추가한 단순문)\n",
        "  ```\n",
        "  * 스위트가 복합문이면 헤더와 스위트를 같은 행에 포함 x\n"
      ]
    },
    {
      "cell_type": "markdown",
      "metadata": {
        "id": "3TPlZ8sb7hVS"
      },
      "source": [
        "## 결정트리\n",
        "  * 왼쪽 끝에서 시작하여 오른쪽 끝으로 나아감\n",
        "  * 조합을 나열한 모습이 나무처럼 생김"
      ]
    },
    {
      "cell_type": "code",
      "metadata": {
        "colab": {
          "base_uri": "https://localhost:8080/"
        },
        "id": "2Q3wiaNR6V4F",
        "outputId": "a39f0630-0442-4a9d-aa44-939391a3bd14"
      },
      "source": [
        "# 실습 1C - 2\n",
        "# 세 정수를 입력받아 중앙값 구하기1\n",
        "\n",
        "def med3(a, b, c):\n",
        "  \"\"\"a, b, c의 중앙값을 구하여 반환\"\"\"\n",
        "  if a >= b: #a의 값이 b보다 크거나 같을때\n",
        "    if b >= c: # a의 값이 b보다 크거나 같고 b의 값이 c보다 크거나 같다면\n",
        "      return b # b반환\n",
        "    elif a <= c: a의 값이 b보다 크거나 같고 a의 값이 c의 값보다 작거나 같다면\n",
        "      return a # a값 반환\n",
        "    else: # 그렇지 않다면\n",
        "      return c # c값 반환\n",
        "  elif a > c: # a가 c 값보다 크다면\n",
        "    return a # a값 반환\n",
        "  elif b > c: # b가 c의 값보다 크다면\n",
        "    return c # c값 반환\n",
        "  else:\n",
        "    return b # b값 반환\n",
        "\n",
        "print(\"세 정수의 중앙값을 구합니다.\")\n",
        "a = int(input('정수 a의 값을 입력하세요.; '))\n",
        "b = int(input('정수 b의 값을 입력하세요.; '))\n",
        "c = int(input('정수 c의 값을 입력하세요.; '))\n",
        "\n",
        "print(f'중앙값은 {med3(a, b, c)}입니다.')"
      ],
      "execution_count": 7,
      "outputs": [
        {
          "output_type": "stream",
          "name": "stdout",
          "text": [
            "세 정수의 중앙값을 구합니다.\n",
            "정수 a의 값을 입력하세요.; 1\n",
            "정수 b의 값을 입력하세요.; 3 \n",
            "정수 c의 값을 입력하세요.; 2\n",
            "중앙값은 2입니다.\n"
          ]
        }
      ]
    },
    {
      "cell_type": "code",
      "metadata": {
        "colab": {
          "base_uri": "https://localhost:8080/"
        },
        "id": "YEvlm9sb-vzH",
        "outputId": "216607d4-a031-4e73-a10d-b298cf326701"
      },
      "source": [
        "# 실습 1 - 6\n",
        "n = int(input('정수를 입력하세요'))\n",
        "\n",
        "if n ==1:\n",
        "  print('A')\n",
        "elif n ==2:\n",
        "  print('B')\n",
        "elif n == 3:\n",
        "  print('C')\n",
        "else:\n",
        "  pass # 입력받은 정수가 1, 2, 3이 모두 아닐경우 pass문이 실행된다 pass문은' 아무것도 수행하지 않고 그냥 지나치세요'를 뜻하는 키워드"
      ],
      "execution_count": 8,
      "outputs": [
        {
          "name": "stdout",
          "output_type": "stream",
          "text": [
            "정수를 입력하세요5\n"
          ]
        }
      ]
    },
    {
      "cell_type": "markdown",
      "metadata": {
        "id": "1fTKjccb_VlB"
      },
      "source": [
        "## 연산자와 피연산자\n",
        "  * 산술 연산자\n",
        "    * + 나 - 등의 기호\n",
        "  * 피연산자\n",
        "    * 연산 대상\n",
        "  * 연산자는 피연산자의 개수에 따라 3개로 분류\n",
        "    * **단항연산자** : 피연산자 1개\n",
        "    * **이항 연산자** : 피연산자 2개\n",
        "    * **삼항 연산자** : 피연산자 3개\n",
        "      * **조건연산자** (if~else)문은 파이썬의 유일한 삼항 연산자"
      ]
    },
    {
      "cell_type": "markdown",
      "metadata": {
        "id": "CCmV8yp3Adt-"
      },
      "source": [
        "## 순서도 기호 살펴보기\n",
        "  순서도는 문제를 정의, 분석하고 해결하는 방법을 그림으로 표현\n",
        "  * 실제로 실행할 연산을 나타내는 기호\n",
        "  * 제어 흐름을 나타내는 선 기호\n",
        "  * 프로그램 순서도를 이해하거나 작성하는데 편리한 특수 기호\n"
      ]
    },
    {
      "cell_type": "code",
      "metadata": {
        "id": "ZCIWkTt7_BCW"
      },
      "source": [
        ""
      ],
      "execution_count": null,
      "outputs": []
    },
    {
      "cell_type": "markdown",
      "metadata": {
        "id": "UvE-7jx0B5no"
      },
      "source": [
        "# 01-2 반복하는 알고리즘"
      ]
    },
    {
      "cell_type": "code",
      "metadata": {
        "id": "cK3HRQj0CBpz"
      },
      "source": [
        "# 실습 1 - 7\n",
        "# 1부터 n까지 정수의 합 구하기1(while문)\n",
        "\n",
        "print('1부터 n까지 정수의 합을 구합니다')\n",
        "n = int(input('n값을 입력하세요.: '))\n",
        "\n",
        "sum = 0\n",
        "i = 1\n",
        "\n",
        "while i <= n: # i가 n보다 작거나 같은 동안 반복\n",
        "  sum += i # sum에 i 를 더함\n",
        "  i += 1 # i에 1를 더함\n",
        "\n",
        "print(f'1부터 {n}까지 정수의 합은 {sum}입니다.')"
      ],
      "execution_count": null,
      "outputs": []
    },
    {
      "cell_type": "markdown",
      "metadata": {
        "id": "hHi874nhCvtK"
      },
      "source": [
        "## 반복구조 \n",
        "  어떤 조건이 성립하는 동안 반복해서 처리(프로그램 명령문 또는 명령어의 집합)하는 것, 일반적으로 **루프**라고 함\n",
        "## 사전 판단 구조\n",
        "  while문을 실행하기 전 반복을 계속할 것인지를 판단하는 구조\n",
        "  ```python\n",
        "  while 조건식: 명령문\n",
        "  ```\n",
        "  이 구문에서 반복 대상이 되는 **명령문**을 **루프 본문**이라 함"
      ]
    },
    {
      "cell_type": "code",
      "metadata": {
        "colab": {
          "base_uri": "https://localhost:8080/"
        },
        "id": "t4WQSMx1DbP1",
        "outputId": "5b456218-23b5-4a84-b8fc-357f4e6eb82f"
      },
      "source": [
        "# 실습 1 - 8\n",
        "# 1부터 n까지 정수의 합 구하기2(for문)\n",
        "\n",
        "print('1부터 n까지 정수의 합을 구합니다')\n",
        "n = int(input('n값을 입력하세요.: '))\n",
        "\n",
        "sum = 0\n",
        "for i in range(1, n + 1):\n",
        "  sum += i #sum에 i를 더함\n",
        "\n",
        "print(f'1부터 {n}까지 정수의 합은 {sum}입니다.')"
      ],
      "execution_count": 11,
      "outputs": [
        {
          "output_type": "stream",
          "name": "stdout",
          "text": [
            "1부터 n까지 정수의 합을 구합니다\n",
            "n값을 입력하세요.: 5\n",
            "1부터 5까지 정수의 합은 15입니다.\n"
          ]
        }
      ]
    },
    {
      "cell_type": "markdown",
      "metadata": {
        "id": "SRvPsTDPD72N"
      },
      "source": [
        "## range() 함수로 이터러블 객체 생성하기\n",
        "```python\n",
        "range(n) # 0 이상 n 미만인 수를 차례로 나열하는 수열\n",
        "range(a, b) # a이상 b 미만인 수를 차례로 나열하는 수열\n",
        "range(a, b, step) #a 이상 b 미만인 수를 step 간격으로 나열하는 수열\n",
        "```\n",
        "이터러블 객체는 **반복할 수 있는 객체** 대표적인 이터러블 자료형으로 **list, str, tuple**잇음"
      ]
    },
    {
      "cell_type": "code",
      "metadata": {
        "colab": {
          "base_uri": "https://localhost:8080/"
        },
        "id": "7NZpfevGEjMD",
        "outputId": "8607ae9a-698c-4f73-9bdd-5b1d2ae4f439"
      },
      "source": [
        "#실습 1 - 9\n",
        "# a부터 b까지 정수의 합 구하기(for 문)\n",
        "\n",
        "print('a부터 b까지 정수합 합을 구합니다.')\n",
        "a = int(input('a:'))\n",
        "b = int(input('b:'))\n",
        "\n",
        "if a > b:\n",
        "  a, b = b, a # a와 b를 오름차순으로 정렬, a와 b의 값을 교환(단일 대입문 사용)\n",
        "\n",
        "sum = 0\n",
        "for i in range(a, b + 1):\n",
        "  sum += i\n",
        "\n",
        "print(f'{a}부터 {b}까지의 합은 {sum}')"
      ],
      "execution_count": 16,
      "outputs": [
        {
          "output_type": "stream",
          "name": "stdout",
          "text": [
            "a부터 b까지 정수합 합을 구합니다.\n",
            "a:3\n",
            "b:8\n",
            "3부터 8까지의 합은 33\n"
          ]
        }
      ]
    },
    {
      "cell_type": "code",
      "metadata": {
        "colab": {
          "base_uri": "https://localhost:8080/"
        },
        "id": "_AsZtAN0F3ru",
        "outputId": "4ba07b8f-f40c-4524-b329-ed35407ae3b7"
      },
      "source": [
        "print('a부터 b까지 정수합 합을 구합니다.')\n",
        "a = int(input('a:'))\n",
        "b = int(input('b:'))\n",
        "\n",
        "if a > b:\n",
        "  a, b = b, a # a와 b를 오름차순으로 정렬, a와 b의 값을 교환(단일 대입문 사용)\n",
        "\n",
        "sum = 0\n",
        "for i in range(a, b + 1):\n",
        "  if i < b: # i가 b보다 작으면 합을 구하는 과정 출력\n",
        "    print(f'{i} + ', end='') # 진행중인값: 수 뒤에 +를 출력\n",
        "  else: #i가b보다 크거나 같으면 최종값 출력을 위해 i=를 출력\n",
        "    print(f'{i} = ', end='')\n",
        "  sum += i\n",
        "\n",
        "print(sum)"
      ],
      "execution_count": 18,
      "outputs": [
        {
          "output_type": "stream",
          "name": "stdout",
          "text": [
            "a부터 b까지 정수합 합을 구합니다.\n",
            "a:3\n",
            "b:4\n",
            "3 + 4 = 7\n"
          ]
        }
      ]
    },
    {
      "cell_type": "code",
      "metadata": {
        "colab": {
          "base_uri": "https://localhost:8080/"
        },
        "id": "AftmdGgYGq5z",
        "outputId": "58dfd67c-5984-4403-874b-51fcb680b436"
      },
      "source": [
        "# 실습 1 -12\n",
        "# +와 -를 번갈아 출력하기1\n",
        "\n",
        "print('+와 -를 번갈아 출력합니다.')\n",
        "n = int(input('몇 개를 출력할까요?: '))\n",
        "\n",
        "for i in range(n):\n",
        "  if i % 2: #홀수인 경우 -출력\n",
        "    print('-', end='')\n",
        "  else:\n",
        "    print('+', end='') #짝수인 경우 +출력\n",
        "\n",
        "print()"
      ],
      "execution_count": 19,
      "outputs": [
        {
          "output_type": "stream",
          "name": "stdout",
          "text": [
            "+와 -를 번갈아 출력합니다.\n",
            "몇 개를 출력할까요?: 12\n",
            "+-+-+-+-+-+-\n"
          ]
        }
      ]
    },
    {
      "cell_type": "code",
      "metadata": {
        "colab": {
          "base_uri": "https://localhost:8080/"
        },
        "id": "hnIWNrV3HeRD",
        "outputId": "cd2605e7-99d3-433b-dbbc-579b7a398903"
      },
      "source": [
        "# 실습 1 -13\n",
        "# +와 -를 번갈아 출력하기2\n",
        "\n",
        "print('+와 -를 번갈아 출력합니다.')\n",
        "n = int(input('몇 개를 출력할까요?: '))\n",
        "\n",
        "for _ in range(n//2):\n",
        "  print('+-', end='') # +-를 n//2개의 출력\n",
        "if n % 2:\n",
        "  print('+', end='') #n인 홀수인 경우만 +출력\n",
        "\n",
        "print()"
      ],
      "execution_count": 20,
      "outputs": [
        {
          "output_type": "stream",
          "name": "stdout",
          "text": [
            "+와 -를 번갈아 출력합니다.\n",
            "몇 개를 출력할까요?: 12\n",
            "+-+-+-+-+-+-\n"
          ]
        }
      ]
    },
    {
      "cell_type": "code",
      "metadata": {
        "colab": {
          "base_uri": "https://localhost:8080/"
        },
        "id": "Obi27_QXH_Bl",
        "outputId": "76f53777-c0e4-4eb1-86b8-29baa8e0f2c8"
      },
      "source": [
        "#실습 1 -14\n",
        "# *를 n개 출력하되 w개마다 줄바꿈하기1\n",
        "\n",
        "print('*를 출력')\n",
        "n = int(input('몇개 출력?'))\n",
        "w = int(input('몇개마다 줄바꿈?'))\n",
        "\n",
        "for i in range(n): #n번 반복\n",
        "  print('*', end='')\n",
        "  if i % w == w - 1: #n번 판단\n",
        "    print() #줄바꿈\n",
        "\n",
        "if n % w: #1번 판단\n",
        "  print()#줄바꿈"
      ],
      "execution_count": 21,
      "outputs": [
        {
          "output_type": "stream",
          "name": "stdout",
          "text": [
            "*를 출력\n",
            "몇개 출력?14\n",
            "몇개마다 줄바꿈?5\n",
            "*****\n",
            "*****\n",
            "****\n"
          ]
        }
      ]
    },
    {
      "cell_type": "code",
      "metadata": {
        "colab": {
          "base_uri": "https://localhost:8080/"
        },
        "id": "imoU60-4I5JQ",
        "outputId": "8fc36a34-e17d-435b-b81c-c11611452c5b"
      },
      "source": [
        "#실습 1 -15\n",
        "# *를 n개 출력하되 w개마다 줄바꿈하기2\n",
        "\n",
        "print('*를 출력')\n",
        "n = int(input('몇개 출력?'))\n",
        "w = int(input('몇개마다 줄바꿈?'))\n",
        "\n",
        "for _ in range(n // w): # n // w번 반복\n",
        "  print('*' * w)\n",
        "\n",
        "rest = n % w\n",
        "if rest: #if문 판단 1번\n",
        "  print('*'*rest)"
      ],
      "execution_count": 22,
      "outputs": [
        {
          "output_type": "stream",
          "name": "stdout",
          "text": [
            "*를 출력\n",
            "몇개 출력?14\n",
            "몇개마다 줄바꿈?5\n",
            "*****\n",
            "*****\n",
            "****\n"
          ]
        }
      ]
    },
    {
      "cell_type": "code",
      "metadata": {
        "colab": {
          "base_uri": "https://localhost:8080/"
        },
        "id": "gv4cGkCbJZ8d",
        "outputId": "d535497f-a699-42ef-f233-9d73ad0b2e21"
      },
      "source": [
        "#실습 1-16\n",
        "# 1부터 n까지 정수의 합 구하기(n값은 양수만 입력받음)\n",
        "\n",
        "print('1부터 n까지 정수의 합 구하기')\n",
        "\n",
        "while True:\n",
        "  n = int(input('n?'))\n",
        "  if n > 0:\n",
        "    break #n이 0보다 커질 때까지 반복\n",
        "\n",
        "sum = 0\n",
        "i = 1\n",
        "\n",
        "for i in range(1, n+1):\n",
        "  sum += i\n",
        "  i +=1\n",
        "\n",
        "print(sum)"
      ],
      "execution_count": 23,
      "outputs": [
        {
          "output_type": "stream",
          "name": "stdout",
          "text": [
            "1부터 n까지 정수의 합 구하기\n",
            "n?-6\n",
            "n?0\n",
            "n?10\n",
            "55\n"
          ]
        }
      ]
    },
    {
      "cell_type": "markdown",
      "metadata": {
        "id": "3F5IsRBZKXVm"
      },
      "source": [
        "## 무한루프와 break 문 알아보기\n",
        "  프로그래머가 의도적으로 while문이 무한 반복되도록 만든 것이 무한루프\n",
        "```python\n",
        "while True:\n",
        "  n = int(input('n?'))\n",
        "  if n > 0:\n",
        "    break\n",
        "```\n",
        "이 코드에서는 반복문 안에서 break 문을 실행하면 반복문을 종료, 양수를 입력해야만 종료"
      ]
    },
    {
      "cell_type": "code",
      "metadata": {
        "colab": {
          "base_uri": "https://localhost:8080/"
        },
        "id": "8jrzpsZDJZ-8",
        "outputId": "01e940fe-95f8-43e4-e8e1-2c798645e35e"
      },
      "source": [
        "# 실습 1 - 17\n",
        "# 가로, 세로 길이가 정수이고 넓이가 area인 직사각형에서 변의 길이 나열하기\n",
        "\n",
        "area = int(input('직사각형의 넓이: '))\n",
        "\n",
        "for i in range(1, area + 1):\n",
        "  if i * i > area: break\n",
        "  if area % i: continue\n",
        "  print(f'{i} x {area // i}')"
      ],
      "execution_count": 25,
      "outputs": [
        {
          "output_type": "stream",
          "name": "stdout",
          "text": [
            "직사각형의 넓이: 32\n",
            "1 x 32\n",
            "2 x 16\n",
            "4 x 8\n"
          ]
        }
      ]
    },
    {
      "cell_type": "code",
      "metadata": {
        "colab": {
          "base_uri": "https://localhost:8080/"
        },
        "id": "6N3vx9KKJaD7",
        "outputId": "3120a20e-bd23-4c79-87b8-0e94a0812b2a"
      },
      "source": [
        "#실습 1-18\n",
        "# 10~99 사이의 난수 n개 생성하기(13이 나오면 중다)\n",
        "\n",
        "import random\n",
        "\n",
        "n = int(input('난수 개수: '))\n",
        "\n",
        "for _ in range(n):\n",
        "  r = random.randint(10, 99)\n",
        "  print(r, end=' ')\n",
        "  if r == 13:\n",
        "    print('\\n프로그램을 중단')\n",
        "    break\n",
        "\n",
        "else:\n",
        "  print('\\n 난수 생성 종료')"
      ],
      "execution_count": 28,
      "outputs": [
        {
          "output_type": "stream",
          "name": "stdout",
          "text": [
            "난수 개수: 5\n",
            "54 16 43 98 14 \n",
            " 난수 생성 종료\n"
          ]
        }
      ]
    },
    {
      "cell_type": "code",
      "metadata": {
        "colab": {
          "base_uri": "https://localhost:8080/"
        },
        "id": "SaHCKMOIJaFQ",
        "outputId": "9a41ac68-3101-44cd-f13a-d8e13a416df8"
      },
      "source": [
        "# 실습 1-19\n",
        "# 1~12까지 8을 건너뛰고 출력1\n",
        "\n",
        "for i in range(1, 13):\n",
        "  if i ==8:\n",
        "    continue\n",
        "  print(i, end=' ')\n",
        "\n",
        "print()"
      ],
      "execution_count": 30,
      "outputs": [
        {
          "output_type": "stream",
          "name": "stdout",
          "text": [
            "1 2 3 4 5 6 7 9 10 11 12 \n"
          ]
        }
      ]
    },
    {
      "cell_type": "code",
      "metadata": {
        "colab": {
          "base_uri": "https://localhost:8080/"
        },
        "id": "ysidXdSUJaG3",
        "outputId": "5129ca54-50e0-47f3-ddc1-62b362f0f035"
      },
      "source": [
        "# 실습 1-19\n",
        "# 1~12까지 8을 건너뛰고 출력2\n",
        "\n",
        "for i in list(range(1, 8)) + list(range(9, 13)):\n",
        "  print(i, end=' ')\n",
        "print()"
      ],
      "execution_count": 33,
      "outputs": [
        {
          "output_type": "stream",
          "name": "stdout",
          "text": [
            "1 2 3 4 5 6 7 9 10 11 12 \n"
          ]
        }
      ]
    },
    {
      "cell_type": "code",
      "metadata": {
        "id": "mGM39XnoJaJO"
      },
      "source": [
        "#"
      ],
      "execution_count": null,
      "outputs": []
    },
    {
      "cell_type": "code",
      "metadata": {
        "id": "fqLkgNoMJaL1"
      },
      "source": [
        ""
      ],
      "execution_count": null,
      "outputs": []
    },
    {
      "cell_type": "code",
      "metadata": {
        "id": "vhq99iOQJaOy"
      },
      "source": [
        ""
      ],
      "execution_count": null,
      "outputs": []
    },
    {
      "cell_type": "code",
      "metadata": {
        "id": "nx_CXjHzJaQZ"
      },
      "source": [
        ""
      ],
      "execution_count": null,
      "outputs": []
    },
    {
      "cell_type": "code",
      "metadata": {
        "id": "mr9Ik2esJaTX"
      },
      "source": [
        ""
      ],
      "execution_count": null,
      "outputs": []
    },
    {
      "cell_type": "code",
      "metadata": {
        "id": "2A3S6S5sJaWb"
      },
      "source": [
        ""
      ],
      "execution_count": null,
      "outputs": []
    },
    {
      "cell_type": "code",
      "metadata": {
        "id": "_G1SDSLnJaYQ"
      },
      "source": [
        ""
      ],
      "execution_count": null,
      "outputs": []
    },
    {
      "cell_type": "code",
      "metadata": {
        "id": "IpN91iWvJaaJ"
      },
      "source": [
        ""
      ],
      "execution_count": null,
      "outputs": []
    },
    {
      "cell_type": "code",
      "metadata": {
        "id": "0iDjjuWTJacU"
      },
      "source": [
        ""
      ],
      "execution_count": null,
      "outputs": []
    },
    {
      "cell_type": "code",
      "metadata": {
        "id": "et2oQKGzJafI"
      },
      "source": [
        ""
      ],
      "execution_count": null,
      "outputs": []
    },
    {
      "cell_type": "code",
      "metadata": {
        "id": "tRcxlrVSJaiJ"
      },
      "source": [
        ""
      ],
      "execution_count": null,
      "outputs": []
    }
  ]
}